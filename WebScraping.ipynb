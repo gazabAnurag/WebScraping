{
 "cells": [
  {
   "cell_type": "raw",
   "metadata": {},
   "source": [
    "Web Scraping- Using requests and Beautiful Soup\n"
   ]
  },
  {
   "cell_type": "code",
   "execution_count": 4,
   "metadata": {
    "collapsed": false
   },
   "outputs": [
    {
     "name": "stdout",
     "output_type": "stream",
     "text": [
      "<!DOCTYPE html>\n",
      "<!--[if (gt IE 9)|!(IE)]> <!--><html lang=\"en\" class=\"no-js page-interactive section\n"
     ]
    }
   ],
   "source": [
    "# load the webpage into the raw_text object\n",
    "import requests\n",
    "raw_text=requests.get(\"https://www.nytimes.com/interactive/2017/06/23/opinion/trumps-lies.html\")\n",
    "print(raw_text.text[0:100])"
   ]
  },
  {
   "cell_type": "code",
   "execution_count": 5,
   "metadata": {
    "collapsed": true
   },
   "outputs": [],
   "source": [
    "#use python parser to prse the object\n",
    "from bs4 import BeautifulSoup\n",
    "soup=BeautifulSoup(raw_text.text,\"html.parser\")"
   ]
  },
  {
   "cell_type": "code",
   "execution_count": 10,
   "metadata": {
    "collapsed": false
   },
   "outputs": [
    {
     "name": "stdout",
     "output_type": "stream",
     "text": [
      "[<span class=\"short-desc\"><strong>Jan. 21 </strong>“I wasn't a fan of Iraq. I didn't want to go into Iraq.” <span class=\"short-truth\"><a href=\"https://www.buzzfeed.com/andrewkaczynski/in-2002-donald-trump-said-he-supported-invading-iraq-on-the\" target=\"_blank\">(He was for an invasion before he was against it.)</a></span></span>, <span class=\"short-desc\"><strong>Jan. 21 </strong>“A reporter for Time magazine — and I have been on their cover 14 or 15 times. I think we have the all-time record in the history of Time magazine.” <span class=\"short-truth\"><a href=\"http://nation.time.com/2013/11/06/10-things-you-didnt-know-about-time/\" target=\"_blank\">(Trump was on the cover 11 times and Nixon appeared 55 times.)</a></span></span>, <span class=\"short-desc\"><strong>Jan. 23 </strong>“Between 3 million and 5 million illegal votes caused me to lose the popular vote.” <span class=\"short-truth\"><a href=\"https://www.nytimes.com/2017/01/23/us/politics/donald-trump-congress-democrats.html\" target=\"_blank\">(There's no evidence of illegal voting.)</a></span></span>, <span class=\"short-desc\"><strong>Jan. 25 </strong>“Now, the audience was the biggest ever. But this crowd was massive. Look how far back it goes. This crowd was massive.” <span class=\"short-truth\"><a href=\"https://www.nytimes.com/2017/01/21/us/politics/trump-white-house-briefing-inauguration-crowd-size.html\" target=\"_blank\">(Official aerial photos show Obama's 2009 inauguration was much more heavily attended.)</a></span></span>]\n"
     ]
    }
   ],
   "source": [
    "#scan for the elements & their attributes\n",
    "list_result=soup.find_all('span',attrs={'class':'short-desc'})\n",
    "print(list_result[0:4])"
   ]
  },
  {
   "cell_type": "code",
   "execution_count": 21,
   "metadata": {
    "collapsed": false
   },
   "outputs": [
    {
     "name": "stdout",
     "output_type": "stream",
     "text": [
      "Jan. 21 \n",
      "“I wasn't a fan of Iraq. I didn't want to go into Iraq.” \n",
      "(He was for an invasion before he was against it.)\n",
      "https://www.buzzfeed.com/andrewkaczynski/in-2002-donald-trump-said-he-supported-invading-iraq-on-the\n"
     ]
    }
   ],
   "source": [
    "#extract tags or content based on the list values\n",
    "print(list_result[0].find('strong').text)\n",
    "print(list_result[0].contents[1])\n",
    "print(list_result[0].find('a').text)\n",
    "print(list_result[0].find('a')['href'])"
   ]
  }
 ],
 "metadata": {
  "kernelspec": {
   "display_name": "Python 3",
   "language": "python",
   "name": "python3"
  },
  "language_info": {
   "codemirror_mode": {
    "name": "ipython",
    "version": 3
   },
   "file_extension": ".py",
   "mimetype": "text/x-python",
   "name": "python",
   "nbconvert_exporter": "python",
   "pygments_lexer": "ipython3",
   "version": "3.6.0"
  }
 },
 "nbformat": 4,
 "nbformat_minor": 2
}
